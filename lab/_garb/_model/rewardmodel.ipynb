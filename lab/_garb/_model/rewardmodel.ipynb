{
 "cells": [
  {
   "cell_type": "code",
   "execution_count": 2,
   "metadata": {},
   "outputs": [],
   "source": [
    "import torch\n",
    "from torch import nn\n",
    "from transformers import LEDTokenizer, LEDModel\n",
    "\n",
    "tokenizer = LEDTokenizer.from_pretrained(\"allenai/led-large-16384-arxiv\")"
   ]
  },
  {
   "cell_type": "code",
   "execution_count": 10,
   "metadata": {},
   "outputs": [],
   "source": [
    "class RewardModel(nn.Module):\n",
    "    def __init__(self):\n",
    "        super(RewardModel, self).__init__()\n",
    "        self.led = LEDModel.from_pretrained(\"allenai/led-large-16384-arxiv\").get_encoder()\n",
    "        self.head = nn.Sequential(nn.Linear(1024, 32, bias=False), nn.ReLU(), nn.Linear(32, 1, bias=False))\n",
    "\n",
    "    def forward(self, input_ids, global_attention_mask):\n",
    "        hidden_state = self.led(input_ids, global_attention_mask=global_attention_mask).last_hidden_state\n",
    "        output = hidden_state.view(hidden_state.size(0), -1, hidden_state.size(-1))[:, -1, :]\n",
    "        output = self.head(output)\n",
    "        return output.squeeze()"
   ]
  },
  {
   "cell_type": "code",
   "execution_count": 4,
   "metadata": {},
   "outputs": [
    {
     "name": "stderr",
     "output_type": "stream",
     "text": [
      "Some weights of the model checkpoint at allenai/led-large-16384-arxiv were not used when initializing LEDModel: ['lm_head.weight', 'final_logits_bias']\n",
      "- This IS expected if you are initializing LEDModel from the checkpoint of a model trained on another task or with another architecture (e.g. initializing a BertForSequenceClassification model from a BertForPreTraining model).\n",
      "- This IS NOT expected if you are initializing LEDModel from the checkpoint of a model that you expect to be exactly identical (initializing a BertForSequenceClassification model from a BertForSequenceClassification model).\n"
     ]
    }
   ],
   "source": [
    "test = RewardModel()"
   ]
  },
  {
   "cell_type": "code",
   "execution_count": 8,
   "metadata": {},
   "outputs": [],
   "source": [
    "seq = \"\"\"this effect is not visible for\n",
    "sunspot data of the one rotation time interval ,\n",
    "but averaging could lose true periodicities . this\n",
    "is observed for data from the southern hemisphere\n",
    ". there is the about @xmath0-day peak in the\n",
    "autocorrelation function of daily fluctuations ,\n",
    "but the correlation for data of the one rotation\n",
    "interval is almost zero or negative at the points\n",
    "@xmath164 and 6 rotations . thus , it is\n",
    "reasonable to research both time series together\n",
    "using the correlative and the power spectrum\n",
    "analyses . the following results are obtained :\n",
    "1 . a new method of the detection of statistically\n",
    "significant peaks of the periodograms enables one\n",
    "to identify aliases in the periodogram . 2 .   two\n",
    "effects cause the existence of the peak of the\n",
    "periodogram of the time series of sunspot area\n",
    "fluctuations at about @xmath0 days : the first is\n",
    "caused by the 27-day periodicity , which probably\n",
    "creates the 162-day periodicity ( it is a\n",
    "subharmonic frequency of the 27-day periodicity )\n",
    "and the second is caused by statistically\n",
    "significant positive values of the autocorrelation\n",
    "function from the intervals of @xmath165 $ ] and\n",
    "@xmath166 $ ] days . the existence of the\n",
    "periodicity of about @xmath0 days of the time\n",
    "series of sunspot area fluctuations and sunspot\n",
    "area fluctuations from the northern hemisphere\n",
    "during the maximum activity period is questionable\"\"\"\n",
    "\n",
    "tokenized = tokenizer(seq, return_tensors=\"pt\")"
   ]
  },
  {
   "cell_type": "code",
   "execution_count": 9,
   "metadata": {},
   "outputs": [
    {
     "data": {
      "text/plain": [
       "tensor(-0.1798)"
      ]
     },
     "execution_count": 9,
     "metadata": {},
     "output_type": "execute_result"
    }
   ],
   "source": [
    "with torch.no_grad():\n",
    "    result = test(**tokenized)\n",
    "result"
   ]
  }
 ],
 "metadata": {
  "kernelspec": {
   "display_name": "hg",
   "language": "python",
   "name": "hg"
  },
  "language_info": {
   "codemirror_mode": {
    "name": "ipython",
    "version": 3
   },
   "file_extension": ".py",
   "mimetype": "text/x-python",
   "name": "python",
   "nbconvert_exporter": "python",
   "pygments_lexer": "ipython3",
   "version": "3.10.6"
  },
  "orig_nbformat": 4
 },
 "nbformat": 4,
 "nbformat_minor": 2
}
