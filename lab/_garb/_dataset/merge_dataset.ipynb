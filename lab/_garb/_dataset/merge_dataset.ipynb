{
 "cells": [
  {
   "cell_type": "code",
   "execution_count": 1,
   "metadata": {},
   "outputs": [],
   "source": [
    "import pickle\n",
    "from tqdm import tqdm"
   ]
  },
  {
   "cell_type": "code",
   "execution_count": 2,
   "metadata": {},
   "outputs": [],
   "source": [
    "def filter_pickle(num_batch, dataset, data_type):\n",
    "    article = []\n",
    "    abstract = []\n",
    "\n",
    "    for i in tqdm(range(0, num_batch)):\n",
    "        with open(file=f\"../_FRIDGE/tokenized_{dataset}/{data_type}/article/{i * 10000}.pickle\", mode='rb') as f:\n",
    "            article += pickle.load(f)\n",
    "        with open(file=f\"../_FRIDGE/tokenized_{dataset}/{data_type}/abstract/{i * 10000}.pickle\", mode='rb') as f:\n",
    "            abstract += pickle.load(f)\n",
    "    \n",
    "    MAX_LEN = 15000\n",
    "    def fil(x):\n",
    "        len_concat = x[\"article\"].shape[0] + x[\"abstract\"].shape[0]\n",
    "        return len_concat <= MAX_LEN\n",
    "        \n",
    "    data = [{\"article\": i.squeeze(), \"abstract\": j.squeeze()} for i, j in tqdm(zip(article, abstract))]\n",
    "    data = [*filter(fil, data)]\n",
    "\n",
    "    with open(file=f\"../_FRIDGE/tokenized_{dataset}/{data_type}/{data_type}_filtered.pickle\", mode='wb') as f:\n",
    "        pickle.dump(data, f)\n",
    "    \n",
    "    del data"
   ]
  },
  {
   "cell_type": "code",
   "execution_count": 3,
   "metadata": {},
   "outputs": [
    {
     "name": "stderr",
     "output_type": "stream",
     "text": [
      "100%|██████████| 21/21 [00:34<00:00,  1.66s/it]\n",
      "203037it [00:01, 188121.24it/s]\n",
      "100%|██████████| 1/1 [00:00<00:00,  1.17it/s]\n",
      "6440it [00:00, 306915.40it/s]\n",
      "100%|██████████| 1/1 [00:00<00:00,  1.40it/s]\n",
      "6436it [00:00, 366102.13it/s]\n",
      "100%|██████████| 12/12 [00:13<00:00,  1.10s/it]\n",
      "119924it [00:00, 266609.06it/s]\n",
      "100%|██████████| 1/1 [00:00<00:00,  1.50it/s]\n",
      "6658it [00:00, 355116.81it/s]\n",
      "100%|██████████| 1/1 [00:00<00:00,  1.56it/s]\n",
      "6633it [00:00, 385100.54it/s]\n"
     ]
    }
   ],
   "source": [
    "filter_pickle(21, \"arxiv\", \"train\")\n",
    "filter_pickle(1, \"arxiv\", \"test\")\n",
    "filter_pickle(1, \"arxiv\", \"validation\")\n",
    "\n",
    "filter_pickle(12, \"pubmed\", \"train\")\n",
    "filter_pickle(1, \"pubmed\", \"test\")\n",
    "filter_pickle(1, \"pubmed\", \"validation\")"
   ]
  }
 ],
 "metadata": {
  "kernelspec": {
   "display_name": "hg",
   "language": "python",
   "name": "hg"
  },
  "language_info": {
   "codemirror_mode": {
    "name": "ipython",
    "version": 3
   },
   "file_extension": ".py",
   "mimetype": "text/x-python",
   "name": "python",
   "nbconvert_exporter": "python",
   "pygments_lexer": "ipython3",
   "version": "3.10.6"
  },
  "orig_nbformat": 4
 },
 "nbformat": 4,
 "nbformat_minor": 2
}
