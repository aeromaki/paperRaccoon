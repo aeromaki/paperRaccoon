{
 "cells": [
  {
   "cell_type": "code",
   "execution_count": null,
   "metadata": {},
   "outputs": [],
   "source": [
    "def redditpreprocessor(row):\n",
    "  orig = row[\"info\"]\n",
    "  text = \"TITLE: \" + orig[\"title\"] + \"POST: \" + orig[\"post\"]\n",
    "\n",
    "  merged_1 = text + \" TL;DR: \" + row[\"summaries\"][row[\"choice\"]][\"text\"]\n",
    "  merged_0 = text + \" TL;DR: \" + row[\"summaries\"][1-row[\"choice\"]][\"text\"]\n",
    "\n",
    "  return [merged_1, merged_0]"
   ]
  },
  {
   "cell_type": "code",
   "execution_count": null,
   "metadata": {},
   "outputs": [],
   "source": [
    "def arxivrand(row):\n",
    "    merged_1 = d[\"article\"] + \" TL;DR: \" + d[\"abstract\"]\n",
    "    \n",
    "    rand = torch.randint(4, tokenizer.vocab_size - 1, tokenizer.encode(merged_1, return_tensors=\"pt\")[:,1:-1].shape)\n",
    "    merged_0 = tokenizer.batch_decode(rand, skip_special_tokens=True)[0]\n",
    "                                      \n",
    "    return [merged_1, merged_0]"
   ]
  }
 ],
 "metadata": {
  "language_info": {
   "name": "python"
  },
  "orig_nbformat": 4
 },
 "nbformat": 4,
 "nbformat_minor": 2
}
